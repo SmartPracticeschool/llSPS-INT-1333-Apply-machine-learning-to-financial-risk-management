{
 "cells": [
  {
   "cell_type": "code",
   "execution_count": 1,
   "metadata": {},
   "outputs": [],
   "source": [
    "import pandas as pd\n",
    "import numpy as np\n",
    "import matplotlib.pyplot as plt\n",
    "import seaborn as sns"
   ]
  },
  {
   "cell_type": "code",
   "execution_count": 2,
   "metadata": {},
   "outputs": [
    {
     "data": {
      "text/html": [
       "<div>\n",
       "<style scoped>\n",
       "    .dataframe tbody tr th:only-of-type {\n",
       "        vertical-align: middle;\n",
       "    }\n",
       "\n",
       "    .dataframe tbody tr th {\n",
       "        vertical-align: top;\n",
       "    }\n",
       "\n",
       "    .dataframe thead th {\n",
       "        text-align: right;\n",
       "    }\n",
       "</style>\n",
       "<table border=\"1\" class=\"dataframe\">\n",
       "  <thead>\n",
       "    <tr style=\"text-align: right;\">\n",
       "      <th></th>\n",
       "      <th>Unnamed: 0</th>\n",
       "      <th>Age</th>\n",
       "      <th>Sex</th>\n",
       "      <th>Job</th>\n",
       "      <th>Housing</th>\n",
       "      <th>Saving accounts</th>\n",
       "      <th>Checking account</th>\n",
       "      <th>Credit amount</th>\n",
       "      <th>Duration</th>\n",
       "      <th>Purpose</th>\n",
       "    </tr>\n",
       "  </thead>\n",
       "  <tbody>\n",
       "    <tr>\n",
       "      <th>0</th>\n",
       "      <td>0</td>\n",
       "      <td>67</td>\n",
       "      <td>male</td>\n",
       "      <td>2</td>\n",
       "      <td>own</td>\n",
       "      <td>NaN</td>\n",
       "      <td>little</td>\n",
       "      <td>1169</td>\n",
       "      <td>6</td>\n",
       "      <td>radio/TV</td>\n",
       "    </tr>\n",
       "    <tr>\n",
       "      <th>1</th>\n",
       "      <td>1</td>\n",
       "      <td>22</td>\n",
       "      <td>female</td>\n",
       "      <td>2</td>\n",
       "      <td>own</td>\n",
       "      <td>little</td>\n",
       "      <td>moderate</td>\n",
       "      <td>5951</td>\n",
       "      <td>48</td>\n",
       "      <td>radio/TV</td>\n",
       "    </tr>\n",
       "    <tr>\n",
       "      <th>2</th>\n",
       "      <td>2</td>\n",
       "      <td>49</td>\n",
       "      <td>male</td>\n",
       "      <td>1</td>\n",
       "      <td>own</td>\n",
       "      <td>little</td>\n",
       "      <td>NaN</td>\n",
       "      <td>2096</td>\n",
       "      <td>12</td>\n",
       "      <td>education</td>\n",
       "    </tr>\n",
       "    <tr>\n",
       "      <th>3</th>\n",
       "      <td>3</td>\n",
       "      <td>45</td>\n",
       "      <td>male</td>\n",
       "      <td>2</td>\n",
       "      <td>free</td>\n",
       "      <td>little</td>\n",
       "      <td>little</td>\n",
       "      <td>7882</td>\n",
       "      <td>42</td>\n",
       "      <td>furniture/equipment</td>\n",
       "    </tr>\n",
       "    <tr>\n",
       "      <th>4</th>\n",
       "      <td>4</td>\n",
       "      <td>53</td>\n",
       "      <td>male</td>\n",
       "      <td>2</td>\n",
       "      <td>free</td>\n",
       "      <td>little</td>\n",
       "      <td>little</td>\n",
       "      <td>4870</td>\n",
       "      <td>24</td>\n",
       "      <td>car</td>\n",
       "    </tr>\n",
       "    <tr>\n",
       "      <th>...</th>\n",
       "      <td>...</td>\n",
       "      <td>...</td>\n",
       "      <td>...</td>\n",
       "      <td>...</td>\n",
       "      <td>...</td>\n",
       "      <td>...</td>\n",
       "      <td>...</td>\n",
       "      <td>...</td>\n",
       "      <td>...</td>\n",
       "      <td>...</td>\n",
       "    </tr>\n",
       "    <tr>\n",
       "      <th>995</th>\n",
       "      <td>995</td>\n",
       "      <td>31</td>\n",
       "      <td>female</td>\n",
       "      <td>1</td>\n",
       "      <td>own</td>\n",
       "      <td>little</td>\n",
       "      <td>NaN</td>\n",
       "      <td>1736</td>\n",
       "      <td>12</td>\n",
       "      <td>furniture/equipment</td>\n",
       "    </tr>\n",
       "    <tr>\n",
       "      <th>996</th>\n",
       "      <td>996</td>\n",
       "      <td>40</td>\n",
       "      <td>male</td>\n",
       "      <td>3</td>\n",
       "      <td>own</td>\n",
       "      <td>little</td>\n",
       "      <td>little</td>\n",
       "      <td>3857</td>\n",
       "      <td>30</td>\n",
       "      <td>car</td>\n",
       "    </tr>\n",
       "    <tr>\n",
       "      <th>997</th>\n",
       "      <td>997</td>\n",
       "      <td>38</td>\n",
       "      <td>male</td>\n",
       "      <td>2</td>\n",
       "      <td>own</td>\n",
       "      <td>little</td>\n",
       "      <td>NaN</td>\n",
       "      <td>804</td>\n",
       "      <td>12</td>\n",
       "      <td>radio/TV</td>\n",
       "    </tr>\n",
       "    <tr>\n",
       "      <th>998</th>\n",
       "      <td>998</td>\n",
       "      <td>23</td>\n",
       "      <td>male</td>\n",
       "      <td>2</td>\n",
       "      <td>free</td>\n",
       "      <td>little</td>\n",
       "      <td>little</td>\n",
       "      <td>1845</td>\n",
       "      <td>45</td>\n",
       "      <td>radio/TV</td>\n",
       "    </tr>\n",
       "    <tr>\n",
       "      <th>999</th>\n",
       "      <td>999</td>\n",
       "      <td>27</td>\n",
       "      <td>male</td>\n",
       "      <td>2</td>\n",
       "      <td>own</td>\n",
       "      <td>moderate</td>\n",
       "      <td>moderate</td>\n",
       "      <td>4576</td>\n",
       "      <td>45</td>\n",
       "      <td>car</td>\n",
       "    </tr>\n",
       "  </tbody>\n",
       "</table>\n",
       "<p>1000 rows × 10 columns</p>\n",
       "</div>"
      ],
      "text/plain": [
       "     Unnamed: 0  Age     Sex  Job Housing Saving accounts Checking account  \\\n",
       "0             0   67    male    2     own             NaN           little   \n",
       "1             1   22  female    2     own          little         moderate   \n",
       "2             2   49    male    1     own          little              NaN   \n",
       "3             3   45    male    2    free          little           little   \n",
       "4             4   53    male    2    free          little           little   \n",
       "..          ...  ...     ...  ...     ...             ...              ...   \n",
       "995         995   31  female    1     own          little              NaN   \n",
       "996         996   40    male    3     own          little           little   \n",
       "997         997   38    male    2     own          little              NaN   \n",
       "998         998   23    male    2    free          little           little   \n",
       "999         999   27    male    2     own        moderate         moderate   \n",
       "\n",
       "     Credit amount  Duration              Purpose  \n",
       "0             1169         6             radio/TV  \n",
       "1             5951        48             radio/TV  \n",
       "2             2096        12            education  \n",
       "3             7882        42  furniture/equipment  \n",
       "4             4870        24                  car  \n",
       "..             ...       ...                  ...  \n",
       "995           1736        12  furniture/equipment  \n",
       "996           3857        30                  car  \n",
       "997            804        12             radio/TV  \n",
       "998           1845        45             radio/TV  \n",
       "999           4576        45                  car  \n",
       "\n",
       "[1000 rows x 10 columns]"
      ]
     },
     "execution_count": 2,
     "metadata": {},
     "output_type": "execute_result"
    }
   ],
   "source": [
    "dt=pd.read_csv('german_credit_data.csv')\n",
    "dt"
   ]
  },
  {
   "cell_type": "code",
   "execution_count": 3,
   "metadata": {},
   "outputs": [],
   "source": [
    "dt=dt.iloc[:,1:]"
   ]
  },
  {
   "cell_type": "code",
   "execution_count": 4,
   "metadata": {},
   "outputs": [
    {
     "data": {
      "text/html": [
       "<div>\n",
       "<style scoped>\n",
       "    .dataframe tbody tr th:only-of-type {\n",
       "        vertical-align: middle;\n",
       "    }\n",
       "\n",
       "    .dataframe tbody tr th {\n",
       "        vertical-align: top;\n",
       "    }\n",
       "\n",
       "    .dataframe thead th {\n",
       "        text-align: right;\n",
       "    }\n",
       "</style>\n",
       "<table border=\"1\" class=\"dataframe\">\n",
       "  <thead>\n",
       "    <tr style=\"text-align: right;\">\n",
       "      <th></th>\n",
       "      <th>Age</th>\n",
       "      <th>Sex</th>\n",
       "      <th>Job</th>\n",
       "      <th>Housing</th>\n",
       "      <th>Saving accounts</th>\n",
       "      <th>Checking account</th>\n",
       "      <th>Credit amount</th>\n",
       "      <th>Duration</th>\n",
       "      <th>Purpose</th>\n",
       "    </tr>\n",
       "  </thead>\n",
       "  <tbody>\n",
       "    <tr>\n",
       "      <th>0</th>\n",
       "      <td>67</td>\n",
       "      <td>male</td>\n",
       "      <td>2</td>\n",
       "      <td>own</td>\n",
       "      <td>NaN</td>\n",
       "      <td>little</td>\n",
       "      <td>1169</td>\n",
       "      <td>6</td>\n",
       "      <td>radio/TV</td>\n",
       "    </tr>\n",
       "    <tr>\n",
       "      <th>1</th>\n",
       "      <td>22</td>\n",
       "      <td>female</td>\n",
       "      <td>2</td>\n",
       "      <td>own</td>\n",
       "      <td>little</td>\n",
       "      <td>moderate</td>\n",
       "      <td>5951</td>\n",
       "      <td>48</td>\n",
       "      <td>radio/TV</td>\n",
       "    </tr>\n",
       "    <tr>\n",
       "      <th>2</th>\n",
       "      <td>49</td>\n",
       "      <td>male</td>\n",
       "      <td>1</td>\n",
       "      <td>own</td>\n",
       "      <td>little</td>\n",
       "      <td>NaN</td>\n",
       "      <td>2096</td>\n",
       "      <td>12</td>\n",
       "      <td>education</td>\n",
       "    </tr>\n",
       "    <tr>\n",
       "      <th>3</th>\n",
       "      <td>45</td>\n",
       "      <td>male</td>\n",
       "      <td>2</td>\n",
       "      <td>free</td>\n",
       "      <td>little</td>\n",
       "      <td>little</td>\n",
       "      <td>7882</td>\n",
       "      <td>42</td>\n",
       "      <td>furniture/equipment</td>\n",
       "    </tr>\n",
       "    <tr>\n",
       "      <th>4</th>\n",
       "      <td>53</td>\n",
       "      <td>male</td>\n",
       "      <td>2</td>\n",
       "      <td>free</td>\n",
       "      <td>little</td>\n",
       "      <td>little</td>\n",
       "      <td>4870</td>\n",
       "      <td>24</td>\n",
       "      <td>car</td>\n",
       "    </tr>\n",
       "  </tbody>\n",
       "</table>\n",
       "</div>"
      ],
      "text/plain": [
       "   Age     Sex  Job Housing Saving accounts Checking account  Credit amount  \\\n",
       "0   67    male    2     own             NaN           little           1169   \n",
       "1   22  female    2     own          little         moderate           5951   \n",
       "2   49    male    1     own          little              NaN           2096   \n",
       "3   45    male    2    free          little           little           7882   \n",
       "4   53    male    2    free          little           little           4870   \n",
       "\n",
       "   Duration              Purpose  \n",
       "0         6             radio/TV  \n",
       "1        48             radio/TV  \n",
       "2        12            education  \n",
       "3        42  furniture/equipment  \n",
       "4        24                  car  "
      ]
     },
     "execution_count": 4,
     "metadata": {},
     "output_type": "execute_result"
    }
   ],
   "source": [
    "dt.head()"
   ]
  },
  {
   "cell_type": "code",
   "execution_count": 5,
   "metadata": {},
   "outputs": [
    {
     "data": {
      "text/html": [
       "<div>\n",
       "<style scoped>\n",
       "    .dataframe tbody tr th:only-of-type {\n",
       "        vertical-align: middle;\n",
       "    }\n",
       "\n",
       "    .dataframe tbody tr th {\n",
       "        vertical-align: top;\n",
       "    }\n",
       "\n",
       "    .dataframe thead th {\n",
       "        text-align: right;\n",
       "    }\n",
       "</style>\n",
       "<table border=\"1\" class=\"dataframe\">\n",
       "  <thead>\n",
       "    <tr style=\"text-align: right;\">\n",
       "      <th></th>\n",
       "      <th>Age</th>\n",
       "      <th>Job</th>\n",
       "      <th>Credit amount</th>\n",
       "      <th>Duration</th>\n",
       "    </tr>\n",
       "  </thead>\n",
       "  <tbody>\n",
       "    <tr>\n",
       "      <th>count</th>\n",
       "      <td>1000.000000</td>\n",
       "      <td>1000.000000</td>\n",
       "      <td>1000.000000</td>\n",
       "      <td>1000.000000</td>\n",
       "    </tr>\n",
       "    <tr>\n",
       "      <th>mean</th>\n",
       "      <td>35.546000</td>\n",
       "      <td>1.904000</td>\n",
       "      <td>3271.258000</td>\n",
       "      <td>20.903000</td>\n",
       "    </tr>\n",
       "    <tr>\n",
       "      <th>std</th>\n",
       "      <td>11.375469</td>\n",
       "      <td>0.653614</td>\n",
       "      <td>2822.736876</td>\n",
       "      <td>12.058814</td>\n",
       "    </tr>\n",
       "    <tr>\n",
       "      <th>min</th>\n",
       "      <td>19.000000</td>\n",
       "      <td>0.000000</td>\n",
       "      <td>250.000000</td>\n",
       "      <td>4.000000</td>\n",
       "    </tr>\n",
       "    <tr>\n",
       "      <th>25%</th>\n",
       "      <td>27.000000</td>\n",
       "      <td>2.000000</td>\n",
       "      <td>1365.500000</td>\n",
       "      <td>12.000000</td>\n",
       "    </tr>\n",
       "    <tr>\n",
       "      <th>50%</th>\n",
       "      <td>33.000000</td>\n",
       "      <td>2.000000</td>\n",
       "      <td>2319.500000</td>\n",
       "      <td>18.000000</td>\n",
       "    </tr>\n",
       "    <tr>\n",
       "      <th>75%</th>\n",
       "      <td>42.000000</td>\n",
       "      <td>2.000000</td>\n",
       "      <td>3972.250000</td>\n",
       "      <td>24.000000</td>\n",
       "    </tr>\n",
       "    <tr>\n",
       "      <th>max</th>\n",
       "      <td>75.000000</td>\n",
       "      <td>3.000000</td>\n",
       "      <td>18424.000000</td>\n",
       "      <td>72.000000</td>\n",
       "    </tr>\n",
       "  </tbody>\n",
       "</table>\n",
       "</div>"
      ],
      "text/plain": [
       "               Age          Job  Credit amount     Duration\n",
       "count  1000.000000  1000.000000    1000.000000  1000.000000\n",
       "mean     35.546000     1.904000    3271.258000    20.903000\n",
       "std      11.375469     0.653614    2822.736876    12.058814\n",
       "min      19.000000     0.000000     250.000000     4.000000\n",
       "25%      27.000000     2.000000    1365.500000    12.000000\n",
       "50%      33.000000     2.000000    2319.500000    18.000000\n",
       "75%      42.000000     2.000000    3972.250000    24.000000\n",
       "max      75.000000     3.000000   18424.000000    72.000000"
      ]
     },
     "execution_count": 5,
     "metadata": {},
     "output_type": "execute_result"
    }
   ],
   "source": [
    "dt.describe()"
   ]
  },
  {
   "cell_type": "code",
   "execution_count": 6,
   "metadata": {},
   "outputs": [
    {
     "data": {
      "image/png": "[encoded data removed]",
      "text/plain": [
       "<Figure size 1152x288 with 3 Axes>"
      ]
     },
     "metadata": {
      "needs_background": "light"
     },
     "output_type": "display_data"
    }
   ],
   "source": [
    "# Distribution of Credit_Amount for each Gender\n",
    "male_credit = dt[\"Credit amount\"].loc[dt[\"Sex\"] == \"male\"].values\n",
    "female_credit = dt[\"Credit amount\"].loc[dt[\"Sex\"] == \"female\"].values\n",
    "total_credit = dt['Credit amount'].values\n",
    "\n",
    "fig, ax = plt.subplots(1, 3, figsize=(16,4))\n",
    "sns.distplot(male_credit, ax=ax[0], color=\"#FE642E\")\n",
    "ax[0].set_title(\"Male Credit Distribution\", fontsize=16)\n",
    "sns.distplot(female_credit, ax=ax[1], color=\"#F781F3\")\n",
    "ax[1].set_title(\"Female Credit Distribution\", fontsize=16)\n",
    "sns.distplot(total_credit, ax=ax[2], color=\"#2E64FE\")\n",
    "ax[2].set_title(\"Total Credit Distribution\", fontsize=16)\n",
    "plt.show()"
   ]
  },
  {
   "cell_type": "code",
   "execution_count": 7,
   "metadata": {},
   "outputs": [
    {
     "data": {
      "image/png": "[encoded data removed]",
      "text/plain": [
       "<Figure size 936x432 with 1 Axes>"
      ]
     },
     "metadata": {
      "needs_background": "light"
     },
     "output_type": "display_data"
    }
   ],
   "source": [
    "plt.figure(figsize=(13,6)) #figure size\n",
    "g = sns.boxplot(x='Purpose', y='Credit amount', \n",
    "                   data=dt)\n",
    "\n",
    "g.set_title(\"Credit Distribution by Purpose\")\n",
    "g.set_xticklabels(g.get_xticklabels(),rotation=90) # It's the way to rotate the xticks when we use variable to our graphs\n",
    "g.set_xlabel('Device Names of purpose', fontsize=18) # Xlabel\n",
    "g.set_ylabel('Credit amount', fontsize=18) \n",
    "plt.show()"
   ]
  },
  {
   "cell_type": "code",
   "execution_count": 8,
   "metadata": {},
   "outputs": [
    {
     "data": {
      "image/png": "[encoded data removed]",
      "text/plain": [
       "<Figure size 936x432 with 1 Axes>"
      ]
     },
     "metadata": {
      "needs_background": "light"
     },
     "output_type": "display_data"
    }
   ],
   "source": [
    "plt.figure(figsize=(13,6)) #figure size\n",
    "g = sns.boxplot(x='Saving accounts', y='Credit amount', \n",
    "                   data=dt)\n",
    "\n",
    "g.set_title(\"Credit Distribution v\\s Saving accounts\")\n",
    "g.set_xticklabels(g.get_xticklabels(),rotation=45) # It's the way to rotate the xticks when we use variable to our graphs\n",
    "g.set_xlabel('Saving accounts', fontsize=18) # Xlabel\n",
    "g.set_ylabel('Credit amount', fontsize=18) \n",
    "plt.show()"
   ]
  },
  {
   "cell_type": "code",
   "execution_count": 9,
   "metadata": {},
   "outputs": [
    {
     "data": {
      "image/png": "[encoded data removed]",
      "text/plain": [
       "<Figure size 936x432 with 1 Axes>"
      ]
     },
     "metadata": {
      "needs_background": "light"
     },
     "output_type": "display_data"
    }
   ],
   "source": [
    "plt.figure(figsize=(13,6)) #figure size\n",
    "g = sns.scatterplot(x='Age', y='Credit amount', \n",
    "                   data=dt)\n",
    "\n",
    "g.set_title(\"Credit Distribution v\\s Age\")\n",
    "g.set_xticklabels(g.get_xticklabels(),rotation=45) # It's the way to rotate the xticks when we use variable to our graphs\n",
    "g.set_xlabel('Age', fontsize=18) # Xlabel\n",
    "g.set_ylabel('Credit amount', fontsize=18) \n",
    "plt.show()"
   ]
  },
  {
   "cell_type": "code",
   "execution_count": 10,
   "metadata": {},
   "outputs": [
    {
     "data": {
      "text/html": [
       "<div>\n",
       "<style scoped>\n",
       "    .dataframe tbody tr th:only-of-type {\n",
       "        vertical-align: middle;\n",
       "    }\n",
       "\n",
       "    .dataframe tbody tr th {\n",
       "        vertical-align: top;\n",
       "    }\n",
       "\n",
       "    .dataframe thead th {\n",
       "        text-align: right;\n",
       "    }\n",
       "</style>\n",
       "<table border=\"1\" class=\"dataframe\">\n",
       "  <thead>\n",
       "    <tr style=\"text-align: right;\">\n",
       "      <th></th>\n",
       "      <th>Age</th>\n",
       "      <th>Sex</th>\n",
       "      <th>Job</th>\n",
       "      <th>Housing</th>\n",
       "      <th>Saving accounts</th>\n",
       "      <th>Checking account</th>\n",
       "      <th>Credit amount</th>\n",
       "      <th>Duration</th>\n",
       "      <th>Purpose</th>\n",
       "    </tr>\n",
       "  </thead>\n",
       "  <tbody>\n",
       "    <tr>\n",
       "      <th>0</th>\n",
       "      <td>67</td>\n",
       "      <td>male</td>\n",
       "      <td>2</td>\n",
       "      <td>own</td>\n",
       "      <td>NaN</td>\n",
       "      <td>little</td>\n",
       "      <td>1169</td>\n",
       "      <td>6</td>\n",
       "      <td>radio/TV</td>\n",
       "    </tr>\n",
       "    <tr>\n",
       "      <th>1</th>\n",
       "      <td>22</td>\n",
       "      <td>female</td>\n",
       "      <td>2</td>\n",
       "      <td>own</td>\n",
       "      <td>little</td>\n",
       "      <td>moderate</td>\n",
       "      <td>5951</td>\n",
       "      <td>48</td>\n",
       "      <td>radio/TV</td>\n",
       "    </tr>\n",
       "    <tr>\n",
       "      <th>2</th>\n",
       "      <td>49</td>\n",
       "      <td>male</td>\n",
       "      <td>1</td>\n",
       "      <td>own</td>\n",
       "      <td>little</td>\n",
       "      <td>NaN</td>\n",
       "      <td>2096</td>\n",
       "      <td>12</td>\n",
       "      <td>education</td>\n",
       "    </tr>\n",
       "    <tr>\n",
       "      <th>3</th>\n",
       "      <td>45</td>\n",
       "      <td>male</td>\n",
       "      <td>2</td>\n",
       "      <td>free</td>\n",
       "      <td>little</td>\n",
       "      <td>little</td>\n",
       "      <td>7882</td>\n",
       "      <td>42</td>\n",
       "      <td>furniture/equipment</td>\n",
       "    </tr>\n",
       "    <tr>\n",
       "      <th>4</th>\n",
       "      <td>53</td>\n",
       "      <td>male</td>\n",
       "      <td>2</td>\n",
       "      <td>free</td>\n",
       "      <td>little</td>\n",
       "      <td>little</td>\n",
       "      <td>4870</td>\n",
       "      <td>24</td>\n",
       "      <td>car</td>\n",
       "    </tr>\n",
       "  </tbody>\n",
       "</table>\n",
       "</div>"
      ],
      "text/plain": [
       "   Age     Sex  Job Housing Saving accounts Checking account  Credit amount  \\\n",
       "0   67    male    2     own             NaN           little           1169   \n",
       "1   22  female    2     own          little         moderate           5951   \n",
       "2   49    male    1     own          little              NaN           2096   \n",
       "3   45    male    2    free          little           little           7882   \n",
       "4   53    male    2    free          little           little           4870   \n",
       "\n",
       "   Duration              Purpose  \n",
       "0         6             radio/TV  \n",
       "1        48             radio/TV  \n",
       "2        12            education  \n",
       "3        42  furniture/equipment  \n",
       "4        24                  car  "
      ]
     },
     "execution_count": 10,
     "metadata": {},
     "output_type": "execute_result"
    }
   ],
   "source": [
    "dt.head()"
   ]
  },
  {
   "cell_type": "code",
   "execution_count": 11,
   "metadata": {},
   "outputs": [
    {
     "data": {
      "text/plain": [
       "Text(0.5, 0.98, 'Financial risk')"
      ]
     },
     "execution_count": 11,
     "metadata": {},
     "output_type": "execute_result"
    },
    {
     "data": {
      "image/png": "[encoded data removed]",
      "text/plain": [
       "<Figure size 432x288 with 1 Axes>"
      ]
     },
     "metadata": {
      "needs_background": "light"
     },
     "output_type": "display_data"
    }
   ],
   "source": [
    "fig, ax = plt.subplots(1)\n",
    "ax.plot(sorted(dt['Credit amount']), color = 'green', marker = '*', label='cnt')\n",
    "ax.legend(loc= 'upper left')\n",
    "ax.set_ylabel('credit amount', fontsize = 10)\n",
    "fig.suptitle('Financial risk', fontsize = 10)"
   ]
  },
  {
   "cell_type": "code",
   "execution_count": 12,
   "metadata": {},
   "outputs": [
    {
     "name": "stderr",
     "output_type": "stream",
     "text": [
      "C:\\Users\\Medhana Jallepalli\\anaconda3\\lib\\site-packages\\seaborn\\axisgrid.py:243: UserWarning: The `size` parameter has been renamed to `height`; please update your code.\n",
      "  warnings.warn(msg, UserWarning)\n"
     ]
    },
    {
     "data": {
      "image/png": "[encoded data removed]",
      "text/plain": [
       "<Figure size 296x288 with 1 Axes>"
      ]
     },
     "metadata": {},
     "output_type": "display_data"
    }
   ],
   "source": [
    "'''\n",
    "plt.scatter(dt['Credit amount'],dt['Saving accounts'])\n",
    "plt.xlabel('Credit amount')\n",
    "plt.ylabel('Duration')\n",
    "plt.title('Credit v\\s Duration')\n",
    "plt.show()\n",
    "'''\n",
    "sns.set_style(\"whitegrid\")\n",
    "sns.FacetGrid(dt, size=4).map(plt.scatter, \"Credit amount\", \"Saving accounts\") \\\n",
    "   .add_legend()\n",
    "plt.show()"
   ]
  },
  {
   "cell_type": "code",
   "execution_count": 13,
   "metadata": {},
   "outputs": [
    {
     "data": {
      "text/html": [
       "<div>\n",
       "<style scoped>\n",
       "    .dataframe tbody tr th:only-of-type {\n",
       "        vertical-align: middle;\n",
       "    }\n",
       "\n",
       "    .dataframe tbody tr th {\n",
       "        vertical-align: top;\n",
       "    }\n",
       "\n",
       "    .dataframe thead th {\n",
       "        text-align: right;\n",
       "    }\n",
       "</style>\n",
       "<table border=\"1\" class=\"dataframe\">\n",
       "  <thead>\n",
       "    <tr style=\"text-align: right;\">\n",
       "      <th></th>\n",
       "      <th>Age</th>\n",
       "      <th>Sex</th>\n",
       "      <th>Job</th>\n",
       "      <th>Housing</th>\n",
       "      <th>Saving accounts</th>\n",
       "      <th>Checking account</th>\n",
       "      <th>Credit amount</th>\n",
       "      <th>Duration</th>\n",
       "      <th>Purpose</th>\n",
       "    </tr>\n",
       "  </thead>\n",
       "  <tbody>\n",
       "    <tr>\n",
       "      <th>0</th>\n",
       "      <td>67</td>\n",
       "      <td>male</td>\n",
       "      <td>2</td>\n",
       "      <td>own</td>\n",
       "      <td>NaN</td>\n",
       "      <td>little</td>\n",
       "      <td>1169</td>\n",
       "      <td>6</td>\n",
       "      <td>radio/TV</td>\n",
       "    </tr>\n",
       "    <tr>\n",
       "      <th>1</th>\n",
       "      <td>22</td>\n",
       "      <td>female</td>\n",
       "      <td>2</td>\n",
       "      <td>own</td>\n",
       "      <td>little</td>\n",
       "      <td>moderate</td>\n",
       "      <td>5951</td>\n",
       "      <td>48</td>\n",
       "      <td>radio/TV</td>\n",
       "    </tr>\n",
       "    <tr>\n",
       "      <th>2</th>\n",
       "      <td>49</td>\n",
       "      <td>male</td>\n",
       "      <td>1</td>\n",
       "      <td>own</td>\n",
       "      <td>little</td>\n",
       "      <td>NaN</td>\n",
       "      <td>2096</td>\n",
       "      <td>12</td>\n",
       "      <td>education</td>\n",
       "    </tr>\n",
       "    <tr>\n",
       "      <th>3</th>\n",
       "      <td>45</td>\n",
       "      <td>male</td>\n",
       "      <td>2</td>\n",
       "      <td>free</td>\n",
       "      <td>little</td>\n",
       "      <td>little</td>\n",
       "      <td>7882</td>\n",
       "      <td>42</td>\n",
       "      <td>furniture/equipment</td>\n",
       "    </tr>\n",
       "    <tr>\n",
       "      <th>4</th>\n",
       "      <td>53</td>\n",
       "      <td>male</td>\n",
       "      <td>2</td>\n",
       "      <td>free</td>\n",
       "      <td>little</td>\n",
       "      <td>little</td>\n",
       "      <td>4870</td>\n",
       "      <td>24</td>\n",
       "      <td>car</td>\n",
       "    </tr>\n",
       "  </tbody>\n",
       "</table>\n",
       "</div>"
      ],
      "text/plain": [
       "   Age     Sex  Job Housing Saving accounts Checking account  Credit amount  \\\n",
       "0   67    male    2     own             NaN           little           1169   \n",
       "1   22  female    2     own          little         moderate           5951   \n",
       "2   49    male    1     own          little              NaN           2096   \n",
       "3   45    male    2    free          little           little           7882   \n",
       "4   53    male    2    free          little           little           4870   \n",
       "\n",
       "   Duration              Purpose  \n",
       "0         6             radio/TV  \n",
       "1        48             radio/TV  \n",
       "2        12            education  \n",
       "3        42  furniture/equipment  \n",
       "4        24                  car  "
      ]
     },
     "execution_count": 13,
     "metadata": {},
     "output_type": "execute_result"
    }
   ],
   "source": [
    "dt.head()"
   ]
  },
  {
   "cell_type": "code",
   "execution_count": 14,
   "metadata": {},
   "outputs": [
    {
     "data": {
      "text/html": [
       "<div>\n",
       "<style scoped>\n",
       "    .dataframe tbody tr th:only-of-type {\n",
       "        vertical-align: middle;\n",
       "    }\n",
       "\n",
       "    .dataframe tbody tr th {\n",
       "        vertical-align: top;\n",
       "    }\n",
       "\n",
       "    .dataframe thead th {\n",
       "        text-align: right;\n",
       "    }\n",
       "</style>\n",
       "<table border=\"1\" class=\"dataframe\">\n",
       "  <thead>\n",
       "    <tr style=\"text-align: right;\">\n",
       "      <th></th>\n",
       "      <th>Age</th>\n",
       "      <th>Job</th>\n",
       "      <th>Credit amount</th>\n",
       "      <th>Duration</th>\n",
       "    </tr>\n",
       "  </thead>\n",
       "  <tbody>\n",
       "    <tr>\n",
       "      <th>Age</th>\n",
       "      <td>1.000000</td>\n",
       "      <td>0.015673</td>\n",
       "      <td>0.032716</td>\n",
       "      <td>-0.036136</td>\n",
       "    </tr>\n",
       "    <tr>\n",
       "      <th>Job</th>\n",
       "      <td>0.015673</td>\n",
       "      <td>1.000000</td>\n",
       "      <td>0.285385</td>\n",
       "      <td>0.210910</td>\n",
       "    </tr>\n",
       "    <tr>\n",
       "      <th>Credit amount</th>\n",
       "      <td>0.032716</td>\n",
       "      <td>0.285385</td>\n",
       "      <td>1.000000</td>\n",
       "      <td>0.624984</td>\n",
       "    </tr>\n",
       "    <tr>\n",
       "      <th>Duration</th>\n",
       "      <td>-0.036136</td>\n",
       "      <td>0.210910</td>\n",
       "      <td>0.624984</td>\n",
       "      <td>1.000000</td>\n",
       "    </tr>\n",
       "  </tbody>\n",
       "</table>\n",
       "</div>"
      ],
      "text/plain": [
       "                    Age       Job  Credit amount  Duration\n",
       "Age            1.000000  0.015673       0.032716 -0.036136\n",
       "Job            0.015673  1.000000       0.285385  0.210910\n",
       "Credit amount  0.032716  0.285385       1.000000  0.624984\n",
       "Duration      -0.036136  0.210910       0.624984  1.000000"
      ]
     },
     "execution_count": 14,
     "metadata": {},
     "output_type": "execute_result"
    }
   ],
   "source": [
    "dt.corr()"
   ]
  },
  {
   "cell_type": "code",
   "execution_count": 15,
   "metadata": {},
   "outputs": [
    {
     "data": {
      "text/plain": [
       "<matplotlib.axes._subplots.AxesSubplot at 0x1d2f7663888>"
      ]
     },
     "execution_count": 15,
     "metadata": {},
     "output_type": "execute_result"
    },
    {
     "data": {
      "image/png": "[encoded data removed]",
      "text/plain": [
       "<Figure size 432x288 with 2 Axes>"
      ]
     },
     "metadata": {},
     "output_type": "display_data"
    }
   ],
   "source": [
    "sns.heatmap(dt.corr(),annot=True)"
   ]
  },
  {
   "cell_type": "code",
   "execution_count": 16,
   "metadata": {},
   "outputs": [
    {
     "data": {
      "text/plain": [
       "(1000, 9)"
      ]
     },
     "execution_count": 16,
     "metadata": {},
     "output_type": "execute_result"
    }
   ],
   "source": [
    "dt.shape"
   ]
  },
  {
   "cell_type": "code",
   "execution_count": 17,
   "metadata": {},
   "outputs": [
    {
     "name": "stdout",
     "output_type": "stream",
     "text": [
      "<class 'pandas.core.frame.DataFrame'>\n",
      "RangeIndex: 1000 entries, 0 to 999\n",
      "Data columns (total 9 columns):\n",
      " #   Column            Non-Null Count  Dtype \n",
      "---  ------            --------------  ----- \n",
      " 0   Age               1000 non-null   int64 \n",
      " 1   Sex               1000 non-null   object\n",
      " 2   Job               1000 non-null   int64 \n",
      " 3   Housing           1000 non-null   object\n",
      " 4   Saving accounts   817 non-null    object\n",
      " 5   Checking account  606 non-null    object\n",
      " 6   Credit amount     1000 non-null   int64 \n",
      " 7   Duration          1000 non-null   int64 \n",
      " 8   Purpose           1000 non-null   object\n",
      "dtypes: int64(4), object(5)\n",
      "memory usage: 70.4+ KB\n"
     ]
    }
   ],
   "source": [
    "dt.info()"
   ]
  },
  {
   "cell_type": "markdown",
   "metadata": {},
   "source": [
    "# Handling missing values"
   ]
  },
  {
   "cell_type": "code",
   "execution_count": 18,
   "metadata": {},
   "outputs": [
    {
     "data": {
      "text/plain": [
       "Age                 False\n",
       "Sex                 False\n",
       "Job                 False\n",
       "Housing             False\n",
       "Saving accounts      True\n",
       "Checking account     True\n",
       "Credit amount       False\n",
       "Duration            False\n",
       "Purpose             False\n",
       "dtype: bool"
      ]
     },
     "execution_count": 18,
     "metadata": {},
     "output_type": "execute_result"
    }
   ],
   "source": [
    "dt.isnull().any()"
   ]
  },
  {
   "cell_type": "code",
   "execution_count": 19,
   "metadata": {},
   "outputs": [],
   "source": [
    "# I'm using mode method to fill the NaN\n",
    "dt['Saving accounts'].fillna((dt['Saving accounts'].mode().iloc[0]),inplace=True)"
   ]
  },
  {
   "cell_type": "code",
   "execution_count": 20,
   "metadata": {},
   "outputs": [
    {
     "data": {
      "text/plain": [
       "False"
      ]
     },
     "execution_count": 20,
     "metadata": {},
     "output_type": "execute_result"
    }
   ],
   "source": [
    "dt['Saving accounts'].isnull().any()"
   ]
  },
  {
   "cell_type": "code",
   "execution_count": 21,
   "metadata": {},
   "outputs": [],
   "source": [
    "dt['Checking account'].fillna((dt['Checking account'].mode().iloc[0]),inplace=True)"
   ]
  },
  {
   "cell_type": "code",
   "execution_count": 22,
   "metadata": {},
   "outputs": [
    {
     "data": {
      "text/plain": [
       "False"
      ]
     },
     "execution_count": 22,
     "metadata": {},
     "output_type": "execute_result"
    }
   ],
   "source": [
    "dt['Checking account'].isnull().any()"
   ]
  },
  {
   "cell_type": "code",
   "execution_count": 23,
   "metadata": {},
   "outputs": [
    {
     "data": {
      "text/plain": [
       "Age                 False\n",
       "Sex                 False\n",
       "Job                 False\n",
       "Housing             False\n",
       "Saving accounts     False\n",
       "Checking account    False\n",
       "Credit amount       False\n",
       "Duration            False\n",
       "Purpose             False\n",
       "dtype: bool"
      ]
     },
     "execution_count": 23,
     "metadata": {},
     "output_type": "execute_result"
    }
   ],
   "source": [
    "dt.isnull().any()"
   ]
  },
  {
   "cell_type": "markdown",
   "metadata": {},
   "source": [
    "# Label Encoding"
   ]
  },
  {
   "cell_type": "code",
   "execution_count": 24,
   "metadata": {},
   "outputs": [
    {
     "data": {
      "text/plain": [
       "array(['male', 'female'], dtype=object)"
      ]
     },
     "execution_count": 24,
     "metadata": {},
     "output_type": "execute_result"
    }
   ],
   "source": [
    "dt.Sex.unique()"
   ]
  },
  {
   "cell_type": "code",
   "execution_count": 25,
   "metadata": {},
   "outputs": [],
   "source": [
    "from sklearn.preprocessing import LabelEncoder"
   ]
  },
  {
   "cell_type": "code",
   "execution_count": 26,
   "metadata": {},
   "outputs": [],
   "source": [
    "lb=LabelEncoder()"
   ]
  },
  {
   "cell_type": "code",
   "execution_count": 27,
   "metadata": {},
   "outputs": [
    {
     "data": {
      "text/plain": [
       "array([[67, 'male', 2, ..., 1169, 6, 'radio/TV'],\n",
       "       [22, 'female', 2, ..., 5951, 48, 'radio/TV'],\n",
       "       [49, 'male', 1, ..., 2096, 12, 'education'],\n",
       "       ...,\n",
       "       [38, 'male', 2, ..., 804, 12, 'radio/TV'],\n",
       "       [23, 'male', 2, ..., 1845, 45, 'radio/TV'],\n",
       "       [27, 'male', 2, ..., 4576, 45, 'car']], dtype=object)"
      ]
     },
     "execution_count": 27,
     "metadata": {},
     "output_type": "execute_result"
    }
   ],
   "source": [
    "x=dt.iloc[:,:].values #Ndim numpy array\n",
    "x"
   ]
  },
  {
   "cell_type": "code",
   "execution_count": 28,
   "metadata": {},
   "outputs": [
    {
     "data": {
      "text/plain": [
       "array([67, 1, 2, 'own', 'little', 'little', 1169, 6, 'radio/TV'],\n",
       "      dtype=object)"
      ]
     },
     "execution_count": 28,
     "metadata": {},
     "output_type": "execute_result"
    }
   ],
   "source": [
    "x[:,1]=lb.fit_transform(x[:,1])#Gender\n",
    "x[0]"
   ]
  },
  {
   "cell_type": "markdown",
   "metadata": {},
   "source": [
    "# One hot encoding"
   ]
  },
  {
   "cell_type": "code",
   "execution_count": 29,
   "metadata": {},
   "outputs": [
    {
     "data": {
      "text/plain": [
       "array(['own', 'free', 'rent'], dtype=object)"
      ]
     },
     "execution_count": 29,
     "metadata": {},
     "output_type": "execute_result"
    }
   ],
   "source": [
    "dt.Housing.unique()"
   ]
  },
  {
   "cell_type": "code",
   "execution_count": 30,
   "metadata": {},
   "outputs": [],
   "source": [
    "from sklearn.compose import ColumnTransformer\n",
    "from sklearn.preprocessing import OneHotEncoder"
   ]
  },
  {
   "cell_type": "code",
   "execution_count": 31,
   "metadata": {},
   "outputs": [
    {
     "data": {
      "text/plain": [
       "array([[0.0, 1.0, 0.0, ..., 1169, 6, 'radio/TV'],\n",
       "       [0.0, 1.0, 0.0, ..., 5951, 48, 'radio/TV'],\n",
       "       [0.0, 1.0, 0.0, ..., 2096, 12, 'education'],\n",
       "       ...,\n",
       "       [0.0, 1.0, 0.0, ..., 804, 12, 'radio/TV'],\n",
       "       [1.0, 0.0, 0.0, ..., 1845, 45, 'radio/TV'],\n",
       "       [0.0, 1.0, 0.0, ..., 4576, 45, 'car']], dtype=object)"
      ]
     },
     "execution_count": 31,
     "metadata": {},
     "output_type": "execute_result"
    }
   ],
   "source": [
    "ct=ColumnTransformer([(\"on\",OneHotEncoder(),[3])],remainder=\"passthrough\")#Housing\n",
    "x=ct.fit_transform(x)\n",
    "x"
   ]
  },
  {
   "cell_type": "code",
   "execution_count": 32,
   "metadata": {},
   "outputs": [
    {
     "data": {
      "text/plain": [
       "(1000, 11)"
      ]
     },
     "execution_count": 32,
     "metadata": {},
     "output_type": "execute_result"
    }
   ],
   "source": [
    "x.shape"
   ]
  },
  {
   "cell_type": "code",
   "execution_count": 33,
   "metadata": {},
   "outputs": [
    {
     "data": {
      "text/plain": [
       "array([0.0, 1.0, 0.0, 67, 1, 2, 'little', 'little', 1169, 6, 'radio/TV'],\n",
       "      dtype=object)"
      ]
     },
     "execution_count": 33,
     "metadata": {},
     "output_type": "execute_result"
    }
   ],
   "source": [
    "x[0]"
   ]
  },
  {
   "cell_type": "code",
   "execution_count": 34,
   "metadata": {},
   "outputs": [
    {
     "data": {
      "text/plain": [
       "(1000, 10)"
      ]
     },
     "execution_count": 34,
     "metadata": {},
     "output_type": "execute_result"
    }
   ],
   "source": [
    "x=x[:,1:]#remove dummy variable\n",
    "x.shape"
   ]
  },
  {
   "cell_type": "code",
   "execution_count": 35,
   "metadata": {},
   "outputs": [
    {
     "data": {
      "text/plain": [
       "array(['little', 'quite rich', 'rich', 'moderate'], dtype=object)"
      ]
     },
     "execution_count": 35,
     "metadata": {},
     "output_type": "execute_result"
    }
   ],
   "source": [
    "dt['Saving accounts'].unique()"
   ]
  },
  {
   "cell_type": "code",
   "execution_count": 36,
   "metadata": {},
   "outputs": [
    {
     "data": {
      "text/plain": [
       "array([1.0, 0.0, 0.0, 0.0, 1.0, 0.0, 67, 1, 2, 'little', 1169, 6,\n",
       "       'radio/TV'], dtype=object)"
      ]
     },
     "execution_count": 36,
     "metadata": {},
     "output_type": "execute_result"
    }
   ],
   "source": [
    "ct=ColumnTransformer([(\"on\",OneHotEncoder(),[5])],remainder=\"passthrough\")#Saving account\n",
    "x=ct.fit_transform(x)\n",
    "x[0]"
   ]
  },
  {
   "cell_type": "code",
   "execution_count": 37,
   "metadata": {},
   "outputs": [
    {
     "data": {
      "text/plain": [
       "(1000, 12)"
      ]
     },
     "execution_count": 37,
     "metadata": {},
     "output_type": "execute_result"
    }
   ],
   "source": [
    "x=x[:,1:]#remove dummy variable\n",
    "x.shape"
   ]
  },
  {
   "cell_type": "code",
   "execution_count": 38,
   "metadata": {
    "scrolled": false
   },
   "outputs": [
    {
     "data": {
      "text/plain": [
       "array([0.0, 0.0, 0.0, 1.0, 0.0, 67, 1, 2, 'little', 1169, 6, 'radio/TV'],\n",
       "      dtype=object)"
      ]
     },
     "execution_count": 38,
     "metadata": {},
     "output_type": "execute_result"
    }
   ],
   "source": [
    "x[0]"
   ]
  },
  {
   "cell_type": "code",
   "execution_count": 39,
   "metadata": {},
   "outputs": [
    {
     "data": {
      "text/plain": [
       "array(['little', 'moderate', 'rich'], dtype=object)"
      ]
     },
     "execution_count": 39,
     "metadata": {},
     "output_type": "execute_result"
    }
   ],
   "source": [
    "dt['Checking account'].unique()"
   ]
  },
  {
   "cell_type": "code",
   "execution_count": 40,
   "metadata": {},
   "outputs": [
    {
     "data": {
      "text/plain": [
       "array([[1.0, 0.0, 0.0, ..., 1169, 6, 'radio/TV'],\n",
       "       [0.0, 1.0, 0.0, ..., 5951, 48, 'radio/TV'],\n",
       "       [1.0, 0.0, 0.0, ..., 2096, 12, 'education'],\n",
       "       ...,\n",
       "       [1.0, 0.0, 0.0, ..., 804, 12, 'radio/TV'],\n",
       "       [1.0, 0.0, 0.0, ..., 1845, 45, 'radio/TV'],\n",
       "       [0.0, 1.0, 0.0, ..., 4576, 45, 'car']], dtype=object)"
      ]
     },
     "execution_count": 40,
     "metadata": {},
     "output_type": "execute_result"
    }
   ],
   "source": [
    "ct=ColumnTransformer([(\"on\",OneHotEncoder(),[8])],remainder=\"passthrough\")#Checking account\n",
    "x=ct.fit_transform(x)\n",
    "x"
   ]
  },
  {
   "cell_type": "code",
   "execution_count": 41,
   "metadata": {},
   "outputs": [
    {
     "data": {
      "text/plain": [
       "(1000, 14)"
      ]
     },
     "execution_count": 41,
     "metadata": {},
     "output_type": "execute_result"
    }
   ],
   "source": [
    "x.shape"
   ]
  },
  {
   "cell_type": "code",
   "execution_count": 42,
   "metadata": {},
   "outputs": [
    {
     "data": {
      "text/plain": [
       "array([1.0, 0.0, 0.0, 0.0, 0.0, 0.0, 1.0, 0.0, 67, 1, 2, 1169, 6,\n",
       "       'radio/TV'], dtype=object)"
      ]
     },
     "execution_count": 42,
     "metadata": {},
     "output_type": "execute_result"
    }
   ],
   "source": [
    "x[0]"
   ]
  },
  {
   "cell_type": "code",
   "execution_count": 43,
   "metadata": {},
   "outputs": [
    {
     "data": {
      "text/plain": [
       "(1000, 13)"
      ]
     },
     "execution_count": 43,
     "metadata": {},
     "output_type": "execute_result"
    }
   ],
   "source": [
    "x=x[:,1:]#remove dummy variable\n",
    "x.shape"
   ]
  },
  {
   "cell_type": "code",
   "execution_count": 44,
   "metadata": {},
   "outputs": [
    {
     "data": {
      "text/plain": [
       "array([0.0, 0.0, 0.0, 0.0, 0.0, 1.0, 0.0, 67, 1, 2, 1169, 6, 'radio/TV'],\n",
       "      dtype=object)"
      ]
     },
     "execution_count": 44,
     "metadata": {},
     "output_type": "execute_result"
    }
   ],
   "source": [
    "x[0]"
   ]
  },
  {
   "cell_type": "code",
   "execution_count": 45,
   "metadata": {},
   "outputs": [
    {
     "data": {
      "text/plain": [
       "array(['radio/TV', 'education', 'furniture/equipment', 'car', 'business',\n",
       "       'domestic appliances', 'repairs', 'vacation/others'], dtype=object)"
      ]
     },
     "execution_count": 45,
     "metadata": {},
     "output_type": "execute_result"
    }
   ],
   "source": [
    "dt[\"Purpose\"].unique()"
   ]
  },
  {
   "cell_type": "code",
   "execution_count": 46,
   "metadata": {},
   "outputs": [
    {
     "data": {
      "text/plain": [
       "array([[0.0, 0.0, 0.0, ..., 2, 1169, 6],\n",
       "       [0.0, 0.0, 0.0, ..., 2, 5951, 48],\n",
       "       [0.0, 0.0, 0.0, ..., 1, 2096, 12],\n",
       "       ...,\n",
       "       [0.0, 0.0, 0.0, ..., 2, 804, 12],\n",
       "       [0.0, 0.0, 0.0, ..., 2, 1845, 45],\n",
       "       [0.0, 1.0, 0.0, ..., 2, 4576, 45]], dtype=object)"
      ]
     },
     "execution_count": 46,
     "metadata": {},
     "output_type": "execute_result"
    }
   ],
   "source": [
    "ct=ColumnTransformer([(\"on\",OneHotEncoder(),[12])],remainder=\"passthrough\")#Purpose\n",
    "x=ct.fit_transform(x)\n",
    "x"
   ]
  },
  {
   "cell_type": "code",
   "execution_count": 47,
   "metadata": {},
   "outputs": [
    {
     "data": {
      "text/plain": [
       "(1000, 20)"
      ]
     },
     "execution_count": 47,
     "metadata": {},
     "output_type": "execute_result"
    }
   ],
   "source": [
    "x.shape"
   ]
  },
  {
   "cell_type": "code",
   "execution_count": 48,
   "metadata": {},
   "outputs": [
    {
     "data": {
      "text/plain": [
       "array([0.0, 0.0, 0.0, 0.0, 0.0, 1.0, 0.0, 0.0, 0.0, 0.0, 0.0, 0.0, 0.0,\n",
       "       1.0, 0.0, 67, 1, 2, 1169, 6], dtype=object)"
      ]
     },
     "execution_count": 48,
     "metadata": {},
     "output_type": "execute_result"
    }
   ],
   "source": [
    "x[0]"
   ]
  },
  {
   "cell_type": "code",
   "execution_count": 49,
   "metadata": {},
   "outputs": [
    {
     "data": {
      "text/plain": [
       "(1000, 19)"
      ]
     },
     "execution_count": 49,
     "metadata": {},
     "output_type": "execute_result"
    }
   ],
   "source": [
    "x=x[:,1:]#remove dummy variable\n",
    "x.shape"
   ]
  },
  {
   "cell_type": "markdown",
   "metadata": {},
   "source": [
    "# Train test split"
   ]
  },
  {
   "cell_type": "code",
   "execution_count": 50,
   "metadata": {},
   "outputs": [
    {
     "data": {
      "text/plain": [
       "(700, 19)"
      ]
     },
     "execution_count": 50,
     "metadata": {},
     "output_type": "execute_result"
    }
   ],
   "source": [
    "x_train=x[:700,]\n",
    "x_train.shape"
   ]
  },
  {
   "cell_type": "code",
   "execution_count": 51,
   "metadata": {},
   "outputs": [
    {
     "data": {
      "text/plain": [
       "(300, 19)"
      ]
     },
     "execution_count": 51,
     "metadata": {},
     "output_type": "execute_result"
    }
   ],
   "source": [
    "x_test=x[700:,]\n",
    "x_test.shape"
   ]
  },
  {
   "cell_type": "markdown",
   "metadata": {},
   "source": [
    "# Feature Scaling"
   ]
  },
  {
   "cell_type": "code",
   "execution_count": 52,
   "metadata": {},
   "outputs": [],
   "source": [
    "from sklearn.preprocessing import StandardScaler"
   ]
  },
  {
   "cell_type": "code",
   "execution_count": 53,
   "metadata": {},
   "outputs": [],
   "source": [
    "sc=StandardScaler()\n",
    "x_train=sc.fit_transform(x_train)\n",
    "x_test=sc.transform(x_test)"
   ]
  },
  {
   "cell_type": "code",
   "execution_count": 54,
   "metadata": {},
   "outputs": [
    {
     "data": {
      "text/plain": [
       "array([[-0.68149479, -0.10752067, -0.2682825 , ...,  0.12890926,\n",
       "        -0.73927893, -1.19411343],\n",
       "       [-0.68149479, -0.10752067, -0.2682825 , ...,  0.12890926,\n",
       "         1.01663258,  2.22861591],\n",
       "       [-0.68149479, -0.10752067,  3.72741425, ..., -1.42689217,\n",
       "        -0.39889207, -0.70515209],\n",
       "       ...,\n",
       "       [ 1.46736265, -0.10752067, -0.2682825 , ..., -2.9826936 ,\n",
       "        -0.82850655, -0.70515209],\n",
       "       [-0.68149479, -0.10752067, -0.2682825 , ...,  0.12890926,\n",
       "        -0.50758086, -0.21619076],\n",
       "       [-0.68149479, -0.10752067,  3.72741425, ...,  1.68471069,\n",
       "        -0.46902571, -0.46067143]])"
      ]
     },
     "execution_count": 54,
     "metadata": {},
     "output_type": "execute_result"
    }
   ],
   "source": [
    "x_train"
   ]
  },
  {
   "cell_type": "code",
   "execution_count": 55,
   "metadata": {},
   "outputs": [
    {
     "data": {
      "text/plain": [
       "['fscaler.save']"
      ]
     },
     "execution_count": 55,
     "metadata": {},
     "output_type": "execute_result"
    }
   ],
   "source": [
    "from joblib import dump\n",
    "dump(sc,\"fscaler.save\")"
   ]
  },
  {
   "cell_type": "markdown",
   "metadata": {},
   "source": [
    "# Evaluation using K-Means"
   ]
  },
  {
   "cell_type": "code",
   "execution_count": 56,
   "metadata": {},
   "outputs": [],
   "source": [
    "from sklearn.cluster import KMeans\n",
    "wcss=[]"
   ]
  },
  {
   "cell_type": "code",
   "execution_count": 57,
   "metadata": {},
   "outputs": [
    {
     "data": {
      "image/png": "[encoded data removed]",
      "text/plain": [
       "<Figure size 432x288 with 1 Axes>"
      ]
     },
     "metadata": {},
     "output_type": "display_data"
    }
   ],
   "source": [
    "for i in range(1,11):\n",
    "    kmeans=KMeans(n_clusters=i,init='k-means++',random_state=0)\n",
    "    kmeans.fit(x)\n",
    "    wcss.append(kmeans.inertia_)#to calculate WCSS method is inertia_\n",
    "plt.plot(range(1,11),wcss)\n",
    "plt.title('The Elbow Method')\n",
    "plt.xlabel('Number of clusters')\n",
    "plt.ylabel('WCSS')\n",
    "plt.show()"
   ]
  },
  {
   "cell_type": "code",
   "execution_count": 63,
   "metadata": {
    "scrolled": true
   },
   "outputs": [
    {
     "data": {
      "text/plain": [
       "array([1, 0, 1, 0, 3, 0, 3, 0, 3, 3, 1, 3, 1, 1, 1, 1, 1, 0, 2, 3, 1, 3,\n",
       "       1, 1, 1, 1, 1, 1, 1, 0, 1, 3, 0, 1, 1, 3, 0, 1, 1, 1, 1, 1, 0, 0,\n",
       "       0, 1, 1, 1, 0, 1, 1, 0, 1, 3, 1, 1, 0, 0, 1, 0, 1, 1, 1, 2, 3, 3,\n",
       "       1, 1, 1, 1, 0, 1, 1, 0, 1, 1, 3, 3, 0, 3, 0, 1, 1, 1, 1, 1, 1, 2,\n",
       "       1, 1, 1, 1, 1, 3, 1, 2, 1, 3, 1, 0, 1, 1, 1, 1, 1, 2, 0, 0, 0, 1,\n",
       "       1, 1, 0, 0, 1, 3, 0, 1, 3, 1, 1, 3, 1, 1, 1, 1, 1, 1, 1, 3, 0, 0,\n",
       "       3, 1, 2, 1, 0, 1, 3, 1, 1, 3, 3, 1, 1, 3, 1, 1, 0, 1, 1, 1, 0, 0,\n",
       "       0, 1, 1, 1, 3, 1, 3, 1, 1, 0, 1, 3, 1, 1, 3, 1, 1, 1, 1, 1, 3, 0,\n",
       "       3, 1, 1, 1, 0, 3, 1, 3, 1, 1, 3, 1, 1, 3, 3, 3, 3, 1, 3, 1, 1, 1,\n",
       "       3, 3, 1, 1, 3, 1, 1, 2, 1, 1, 0, 1, 3, 3, 3, 1, 3, 1, 3, 3, 3, 1,\n",
       "       1, 1, 1, 3, 3, 3, 2, 0, 1, 3, 3, 1, 1, 1, 1, 1, 2, 3, 1, 1, 1, 1,\n",
       "       3, 1, 3, 1, 1, 1, 1, 1, 1, 1, 1, 3, 1, 0, 3, 1, 3, 1, 1, 1, 3, 3,\n",
       "       1, 1, 0, 1, 0, 1, 3, 1, 2, 3, 2, 3, 1, 1, 3, 1, 3, 1, 1, 1, 3, 2,\n",
       "       3, 0, 1, 1, 1, 0, 0, 3, 0, 2, 3, 1, 1, 3, 1, 3, 1, 1, 2, 1, 3, 1,\n",
       "       1, 1, 0, 0, 3, 1, 1, 3, 1, 3, 1, 3, 3, 1, 3, 3, 1, 3, 0, 1, 3, 1,\n",
       "       0, 1, 0, 2, 3, 3, 1, 1, 3, 1, 0, 3, 3, 3, 3, 1, 1, 3, 1, 1, 1, 1,\n",
       "       3, 0, 1, 1, 1, 3, 1, 1, 1, 3, 1, 1, 1, 1, 3, 3, 3, 3, 3, 0, 1, 2,\n",
       "       2, 0, 1, 1, 2, 1, 1, 2, 1, 1, 3, 1, 1, 0, 1, 1, 1, 1, 3, 1, 1, 2,\n",
       "       3, 1, 1, 1, 1, 1, 0, 1, 3, 1, 1, 1, 3, 1, 1, 0, 1, 1, 1, 0, 3, 0,\n",
       "       3, 1, 3, 1, 1, 1, 3, 3, 3, 1, 1, 1, 3, 2, 1, 1, 1, 1, 1, 1, 3, 1,\n",
       "       1, 1, 3, 1, 3, 1, 1, 3, 1, 1, 2, 1, 3, 3, 3, 3, 3, 3, 1, 3, 3, 1,\n",
       "       3, 1, 1, 3, 1, 0, 3, 3, 3, 1, 1, 1, 1, 3, 3, 3, 1, 1, 3, 1, 3, 1,\n",
       "       1, 1, 3, 3, 1, 3, 1, 0, 1, 1, 1, 3, 0, 1, 1, 1, 3, 0, 1, 1, 1, 1,\n",
       "       1, 0, 1, 0, 1, 3, 3, 1, 1, 1, 1, 0, 1, 1, 0, 3, 0, 3, 1, 0, 1, 1,\n",
       "       1, 1, 1, 3, 1, 1, 3, 1, 1, 3, 0, 3, 1, 1, 0, 3, 1, 1, 1, 1, 1, 0,\n",
       "       1, 1, 0, 1, 1, 1, 1, 3, 3, 1, 3, 1, 1, 2, 3, 1, 1, 3, 3, 0, 3, 0,\n",
       "       0, 1, 1, 3, 3, 1, 3, 1, 1, 3, 1, 1, 1, 1, 3, 1, 1, 1, 1, 1, 1, 3,\n",
       "       1, 1, 1, 3, 3, 3, 1, 1, 1, 3, 1, 3, 3, 3, 1, 1, 1, 1, 3, 3, 1, 2,\n",
       "       0, 3, 3, 1, 3, 1, 3, 1, 3, 1, 1, 1, 3, 3, 3, 1, 1, 1, 1, 1, 1, 2,\n",
       "       1, 3, 1, 1, 3, 1, 1, 0, 3, 1, 1, 1, 0, 1, 1, 0, 1, 3, 1, 2, 3, 0,\n",
       "       1, 1, 1, 1, 1, 0, 3, 3, 3, 3, 3, 0, 2, 1, 3, 3, 3, 0, 1, 1, 1, 1,\n",
       "       1, 3, 2, 0, 1, 3, 3, 3, 1, 3, 3, 3, 1, 1, 1, 1, 1, 1, 1, 0, 1, 1,\n",
       "       1, 3, 0, 3, 1, 1, 1, 1, 1, 1, 2, 0, 3, 1, 3, 0, 1, 1, 1, 1, 3, 1,\n",
       "       1, 1, 0, 1, 0, 1, 1, 3, 3, 3, 2, 3, 0, 3, 1, 1, 3, 1, 2, 1, 1, 1,\n",
       "       3, 3, 1, 1, 1, 0, 1, 1, 1, 1, 1, 1, 3, 1, 1, 2, 1, 1, 3, 3, 3, 1,\n",
       "       3, 0, 3, 1, 1, 1, 3, 3, 0, 3, 3, 1, 1, 1, 0, 1, 3, 3, 0, 0, 1, 0,\n",
       "       1, 3, 3, 1, 0, 1, 1, 1, 1, 1, 3, 1, 0, 0, 1, 1, 0, 1, 1, 1, 0, 3,\n",
       "       3, 0, 1, 1, 2, 1, 1, 3, 3, 1, 3, 1, 3, 3, 0, 0, 1, 1, 2, 3, 1, 1,\n",
       "       1, 1, 3, 3, 3, 3, 1, 1, 3, 3, 0, 1, 1, 1, 1, 3, 1, 1, 2, 1, 1, 3,\n",
       "       3, 3, 0, 1, 1, 3, 1, 1, 1, 3, 0, 1, 0, 1, 1, 1, 3, 1, 1, 3, 1, 0,\n",
       "       0, 0, 1, 1, 3, 1, 3, 2, 0, 0, 1, 1, 1, 0, 1, 0, 3, 1, 1, 3, 3, 3,\n",
       "       2, 1, 1, 1, 3, 3, 3, 3, 3, 3, 3, 1, 3, 2, 3, 2, 1, 3, 1, 2, 1, 1,\n",
       "       0, 1, 1, 2, 1, 1, 1, 1, 1, 1, 1, 1, 1, 1, 0, 0, 3, 1, 1, 1, 1, 0,\n",
       "       3, 3, 1, 3, 3, 1, 3, 2, 1, 1, 3, 1, 3, 3, 1, 1, 3, 1, 1, 1, 1, 3,\n",
       "       0, 3, 1, 0, 1, 0, 3, 1, 1, 1, 3, 1, 0, 3, 3, 0, 1, 1, 0, 1, 0, 1,\n",
       "       3, 1, 1, 3, 1, 1, 3, 1, 1, 3])"
      ]
     },
     "execution_count": 63,
     "metadata": {},
     "output_type": "execute_result"
    }
   ],
   "source": [
    "kmeans= KMeans(n_clusters=4,init='k-means++',random_state=0)\n",
    "ymeans=kmeans.fit_predict(x)\n",
    "ymeans"
   ]
  },
  {
   "cell_type": "code",
   "execution_count": 64,
   "metadata": {},
   "outputs": [
    {
     "data": {
      "text/plain": [
       "array([[0.0, 0.0, 0.0, ..., 2, 1169, 6],\n",
       "       [0.0, 0.0, 0.0, ..., 2, 5951, 48],\n",
       "       [0.0, 0.0, 1.0, ..., 1, 2096, 12],\n",
       "       ...,\n",
       "       [0.0, 0.0, 0.0, ..., 2, 804, 12],\n",
       "       [0.0, 0.0, 0.0, ..., 2, 1845, 45],\n",
       "       [1.0, 0.0, 0.0, ..., 2, 4576, 45]], dtype=object)"
      ]
     },
     "execution_count": 64,
     "metadata": {},
     "output_type": "execute_result"
    }
   ],
   "source": [
    "x"
   ]
  },
  {
   "cell_type": "code",
   "execution_count": 65,
   "metadata": {},
   "outputs": [
    {
     "data": {
      "text/plain": [
       "array([0.47692308, 0.29227941, 0.47619048, 0.33802817])"
      ]
     },
     "execution_count": 65,
     "metadata": {},
     "output_type": "execute_result"
    }
   ],
   "source": [
    "kmeans.cluster_centers_[:,0]"
   ]
  },
  {
   "cell_type": "code",
   "execution_count": 66,
   "metadata": {},
   "outputs": [
    {
     "data": {
      "text/plain": [
       "array([-8.67361738e-18,  1.83823529e-02, -5.20417043e-18,  7.04225352e-03])"
      ]
     },
     "execution_count": 66,
     "metadata": {},
     "output_type": "execute_result"
    }
   ],
   "source": [
    "kmeans.cluster_centers_[:,1]"
   ]
  },
  {
   "cell_type": "code",
   "execution_count": 67,
   "metadata": {
    "scrolled": true
   },
   "outputs": [
    {
     "data": {
      "image/png": "[encoded data removed]",
      "text/plain": [
       "<Figure size 432x288 with 1 Axes>"
      ]
     },
     "metadata": {},
     "output_type": "display_data"
    }
   ],
   "source": [
    "plt.scatter(x[ymeans==0,14],x[ymeans==0,17],s=100,color='red',label='Very High Risk')\n",
    "plt.scatter(x[ymeans==1,14],x[ymeans==1,17],s=100,color='orange',label='High Risk')\n",
    "plt.scatter(x[ymeans==2,14],x[ymeans==2,17],s=100,color='blue',label='Medium risk')\n",
    "plt.scatter(x[ymeans==3,14],x[ymeans==3,17],s=100,color='green',label='Low Risk')\n",
    "plt.scatter(kmeans.cluster_centers_[:,0],kmeans.cluster_centers_[:,1],s=300,color='magenta',label='centroids')\n",
    "plt.title('Clusters of Purposes')\n",
    "plt.xlabel('Checking account')\n",
    "plt.ylabel('Credit amount')\n",
    "plt.legend()\n",
    "plt.show()"
   ]
  },
  {
   "cell_type": "code",
   "execution_count": 68,
   "metadata": {},
   "outputs": [],
   "source": [
    "from sklearn.pipeline import Pipeline"
   ]
  },
  {
   "cell_type": "code",
   "execution_count": 69,
   "metadata": {},
   "outputs": [],
   "source": [
    "pipe= Pipeline([(\"sc\",StandardScaler()),(\"classifier\",KMeans())])"
   ]
  },
  {
   "cell_type": "code",
   "execution_count": 70,
   "metadata": {},
   "outputs": [
    {
     "data": {
      "text/plain": [
       "Pipeline(memory=None,\n",
       "         steps=[('sc',\n",
       "                 StandardScaler(copy=True, with_mean=True, with_std=True)),\n",
       "                ('classifier',\n",
       "                 KMeans(algorithm='auto', copy_x=True, init='k-means++',\n",
       "                        max_iter=300, n_clusters=8, n_init=10, n_jobs=None,\n",
       "                        precompute_distances='auto', random_state=None,\n",
       "                        tol=0.0001, verbose=0))],\n",
       "         verbose=False)"
      ]
     },
     "execution_count": 70,
     "metadata": {},
     "output_type": "execute_result"
    }
   ],
   "source": [
    "pipe.fit(x_train)"
   ]
  },
  {
   "cell_type": "code",
   "execution_count": 71,
   "metadata": {},
   "outputs": [
    {
     "data": {
      "text/plain": [
       "array([0, 4, 1, 4, 1, 0, 4, 2, 1, 1, 0, 3, 4, 1, 4, 4, 1, 1, 1, 4, 1, 3,\n",
       "       4, 0, 2, 4, 0, 2, 2, 1, 1, 2, 1, 2, 4, 5, 2, 4, 4, 2, 4, 1, 1, 0,\n",
       "       7, 1, 2, 4, 4, 4, 7, 4, 2, 1, 6, 2, 4, 1, 4, 4, 4, 2, 1, 4, 4, 1,\n",
       "       7, 2, 2, 1, 2, 3, 4, 1, 0, 2, 4, 1, 4, 6, 1, 4, 3, 4, 4, 1, 0, 4,\n",
       "       3, 3, 1, 4, 7, 7, 0, 2, 4, 2, 4, 4, 3, 2, 7, 1, 2, 4, 1, 1, 4, 2,\n",
       "       1, 1, 4, 5, 4, 2, 5, 2, 7, 1, 4, 1, 7, 4, 7, 4, 2, 4, 4, 4, 0, 2,\n",
       "       2, 1, 1, 4, 1, 2, 4, 1, 7, 4, 6, 4, 7, 7, 2, 4, 1, 1, 2, 4, 1, 4,\n",
       "       4, 4, 3, 7, 4, 2, 4, 1, 1, 7, 2, 0, 1, 7, 4, 2, 0, 4, 1, 5, 7, 4,\n",
       "       1, 1, 4, 1, 4, 4, 4, 1, 7, 3, 4, 4, 4, 2, 4, 1, 4, 4, 1, 4, 2, 7,\n",
       "       2, 7, 2, 4, 4, 2, 1, 2, 4, 3, 4, 4, 1, 7, 1, 1, 2, 7, 4, 4, 7, 2,\n",
       "       7, 0, 2, 2, 7, 4, 2, 4, 1, 4, 7, 1, 4, 0, 1, 1, 1, 2, 3, 4, 4, 4,\n",
       "       7, 4, 2, 0, 0, 4, 7, 1, 1, 1, 0, 7, 4, 2, 1, 1, 4, 7, 2, 4, 4, 0,\n",
       "       6, 1, 0, 2, 2, 4, 6, 4, 2, 2, 1, 0, 1, 4, 4, 2, 7, 2, 4, 4, 7, 2,\n",
       "       4, 1, 4, 1, 3, 1, 2, 7, 4, 7, 4, 1, 1, 4])"
      ]
     },
     "execution_count": 71,
     "metadata": {},
     "output_type": "execute_result"
    }
   ],
   "source": [
    "x_pred=pipe.predict(x_test)\n",
    "x_pred"
   ]
  },
  {
   "cell_type": "code",
   "execution_count": 72,
   "metadata": {},
   "outputs": [
    {
     "data": {
      "text/plain": [
       "array([[-0.68149479, -0.10752067, -0.2682825 , ..., -1.42689217,\n",
       "        -0.75616975, -0.70515209],\n",
       "       [ 1.46736265, -0.10752067, -0.2682825 , ...,  0.12890926,\n",
       "         1.15616549,  2.22861591],\n",
       "       [-0.68149479, -0.10752067, -0.2682825 , ...,  0.12890926,\n",
       "        -0.66290302,  0.27277057],\n",
       "       ...,\n",
       "       [-0.68149479, -0.10752067, -0.2682825 , ...,  0.12890926,\n",
       "        -0.87330396, -0.70515209],\n",
       "       [-0.68149479, -0.10752067, -0.2682825 , ...,  0.12890926,\n",
       "        -0.49105722,  1.98413524],\n",
       "       [ 1.46736265, -0.10752067, -0.2682825 , ...,  0.12890926,\n",
       "         0.51174376,  1.98413524]])"
      ]
     },
     "execution_count": 72,
     "metadata": {},
     "output_type": "execute_result"
    }
   ],
   "source": [
    "x_test"
   ]
  },
  {
   "cell_type": "code",
   "execution_count": null,
   "metadata": {},
   "outputs": [],
   "source": []
  }
 ],
 "metadata": {
  "kernelspec": {
   "display_name": "Python 3",
   "language": "python",
   "name": "python3"
  },
  "language_info": {
   "codemirror_mode": {
    "name": "ipython",
    "version": 3
   },
   "file_extension": ".py",
   "mimetype": "text/x-python",
   "name": "python",
   "nbconvert_exporter": "python",
   "pygments_lexer": "ipython3",
   "version": "3.7.6"
  }
 },
 "nbformat": 4,
 "nbformat_minor": 4
}
